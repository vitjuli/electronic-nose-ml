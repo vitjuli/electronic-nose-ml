{
 "cells": [
  {
   "cell_type": "markdown",
   "metadata": {},
   "source": [
    "# 04 · Grouped Cross-Validation (by 'group')\n",
    "\n",
    "Используем `GroupKFold`, чтобы избежать утечек между группами (например, месяцами/днями)."
   ]
  },
  {
   "cell_type": "code",
   "execution_count": null,
   "metadata": {},
   "outputs": [],
   "source": [
    "import pandas as pd, os, sys, subprocess\n",
    "from sklearn.model_selection import GroupKFold, train_test_split\n",
    "\n",
    "DATA = '../data/processed/dataset.csv'\n",
    "df = pd.read_csv(DATA)\n",
    "gkf = GroupKFold(n_splits=3)\n",
    "\n",
    "for i, (tr_idx, te_idx) in enumerate(gkf.split(df, groups=df['group']), 1):\n",
    "    dtr, dte = df.iloc[tr_idx].copy(), df.iloc[te_idx].copy()\n",
    "    tr, va = train_test_split(dtr, test_size=0.2, random_state=42)\n",
    "    tr['split']='train'; va['split']='val'; dte['split']='test'\n",
    "    tmp_csv = f'../data/processed/dataset_fold{i}.csv'\n",
    "    pd.concat([tr,va,dte]).to_csv(tmp_csv, index=False)\n",
    "    outdir = f'../models/fold{i}'\n",
    "    os.makedirs(outdir, exist_ok=True)\n",
    "\n",
    "    cmd = [sys.executable, '-m', 'src.train', '--data', tmp_csv, '--outdir', outdir,\n",
    "           '--targets', 'H2_ppm', 'Propane_ppm', '--epochs', '60', '--patience', '15']\n",
    "    subprocess.run(cmd, check=True)\n",
    "\n",
    "    cmd = [sys.executable, '-m', 'src.evaluate', '--data', tmp_csv, '--ckpt', outdir,\n",
    "           '--scaler', os.path.join(outdir, 'scaler.joblib'), '--targets', 'H2_ppm', 'Propane_ppm']\n",
    "    subprocess.run(cmd, check=True)\n",
    "\n",
    "print(\"Done.\")"
   ]
  }
 ],
 "metadata": {
  "kernelspec": {
   "display_name": "Python 3",
   "language": "python",
   "name": "python3"
  },
  "language_info": {
   "name": "python"
  }
 },
 "nbformat": 4,
 "nbformat_minor": 5
}
