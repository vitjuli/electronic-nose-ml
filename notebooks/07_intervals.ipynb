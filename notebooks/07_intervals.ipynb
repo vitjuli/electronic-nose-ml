{
 "cells": [
  {
   "cell_type": "markdown",
   "metadata": {},
   "source": [
    "# 07 · Prediction intervals — conformal via residual calibration"
   ]
  },
  {
   "cell_type": "code",
   "execution_count": null,
   "metadata": {},
   "outputs": [],
   "source": [
    "import numpy as np, pandas as pd, torch, glob, os\n",
    "from src.dataset import split_dataframe, build_matrices, load_scaler\n",
    "from src.model import MLP\n",
    "from src.calibration import residual_calibration_intervals\n",
    "\n",
    "df = pd.read_csv('../data/processed/dataset.csv')\n",
    "feature_cols = [c for c in df.columns if c.startswith('x')]\n",
    "target_cols = ['H2_ppm','Propane_ppm']\n",
    "train_df, val_df, test_df = split_dataframe(df, split_col='split')\n",
    "X_val, y_val = build_matrices(val_df, feature_cols, target_cols)\n",
    "X_test, y_test = build_matrices(test_df, feature_cols, target_cols)\n",
    "scaler = load_scaler('../models/scaler.joblib')\n",
    "X_val = scaler.transform(X_val).astype('float32')\n",
    "X_test = scaler.transform(X_test).astype('float32')\n",
    "\n",
    "ckpt_path = sorted(glob.glob('../models/best_model_*.pt'))[0]\n",
    "ckpt = torch.load(ckpt_path, map_location='cpu')\n",
    "model = MLP(ckpt['in_dim'], ckpt['hidden'], ckpt['out_dim'])\n",
    "model.load_state_dict(ckpt['state_dict']); model.eval()\n",
    "\n",
    "with torch.no_grad():\n",
    "    ypv = model(torch.from_numpy(X_val)).numpy()\n",
    "    ypt = model(torch.from_numpy(X_test)).numpy()\n",
    "\n",
    "lower, upper = residual_calibration_intervals(y_val, ypv, ypt, alpha=0.1)\n",
    "coverage = ((y_test >= lower) & (y_test <= upper)).mean(axis=0)\n",
    "print('Per-target coverage (~0.9 expected):', coverage)"
   ]
  }
 ],
 "metadata": {
  "kernelspec": {
   "display_name": "Python 3",
   "language": "python",
   "name": "python3"
  },
  "language_info": {
   "name": "python"
  }
 },
 "nbformat": 4,
 "nbformat_minor": 5
}
