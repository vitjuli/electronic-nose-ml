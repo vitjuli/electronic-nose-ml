{
 "cells": [
  {
   "cell_type": "markdown",
   "metadata": {},
   "source": [
    "# 00 · Feature Engineering (signal descriptors)\n",
    "\n",
    "Конвертируем временные ряды `x0..xT-1` в компактные признаки (среднее, std, пики, производные и т.д.)."
   ]
  },
  {
   "cell_type": "code",
   "execution_count": null,
   "metadata": {},
   "outputs": [],
   "source": [
    "import pandas as pd, numpy as np, os\n",
    "from pathlib import Path\n",
    "from src.features import features_from_cycle\n",
    "\n",
    "CSV_IN = Path('../data/processed/dataset.csv')\n",
    "CSV_OUT = Path('../data/processed/dataset_features.csv')\n",
    "\n",
    "df = pd.read_csv(CSV_IN)\n",
    "x_cols = [c for c in df.columns if c.startswith('x')]\n",
    "\n",
    "rows = []\n",
    "for _, row in df.iterrows():\n",
    "    feats = features_from_cycle(row[x_cols].values.astype('float32'))\n",
    "    feats.update({\"H2_ppm\": row['H2_ppm'], \"Propane_ppm\": row['Propane_ppm'], \"split\": row['split'], \"group\": row['group']})\n",
    "    rows.append(feats)\n",
    "\n",
    "fdf = pd.DataFrame(rows)\n",
    "fdf.to_csv(CSV_OUT, index=False)\n",
    "print('Wrote', CSV_OUT, 'shape=', fdf.shape)"
   ]
  },
  {
   "cell_type": "markdown",
   "metadata": {},
   "source": [
    "Просмотр первых строк:"
   ]
  },
  {
   "cell_type": "code",
   "execution_count": null,
   "metadata": {},
   "outputs": [],
   "source": [
    "import pandas as pd\n",
    "pd.read_csv('../data/processed/dataset_features.csv').head()"
   ]
  }
 ],
 "metadata": {
  "kernelspec": {
   "display_name": "Python 3",
   "language": "python",
   "name": "python3"
  },
  "language_info": {
   "name": "python"
  }
 },
 "nbformat": 4,
 "nbformat_minor": 5
}
