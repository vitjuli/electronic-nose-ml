{
 "cells": [
  {
   "cell_type": "markdown",
   "metadata": {},
   "source": [
    "# 05 · Interpretability — weights, permutation, feature fixing"
   ]
  },
  {
   "cell_type": "code",
   "execution_count": null,
   "metadata": {},
   "outputs": [],
   "source": [
    "import numpy as np, pandas as pd, torch, glob\n",
    "from src.dataset import split_dataframe, build_matrices, load_scaler\n",
    "from src.model import MLP\n",
    "\n",
    "df = pd.read_csv('../data/processed/dataset.csv')\n",
    "feature_cols = [c for c in df.columns if c.startswith('x')]\n",
    "target_cols = ['H2_ppm','Propane_ppm']\n",
    "_, _, test_df = split_dataframe(df, split_col='split')\n",
    "X_test, y_test = build_matrices(test_df, feature_cols, target_cols)\n",
    "scaler = load_scaler('../models/scaler.joblib')\n",
    "X_test = scaler.transform(X_test).astype('float32')\n",
    "\n",
    "ckpt_path = sorted(glob.glob('../models/best_model_*.pt'))[0]\n",
    "ckpt = torch.load(ckpt_path, map_location='cpu')\n",
    "model = MLP(ckpt['in_dim'], ckpt['hidden'], ckpt['out_dim'])\n",
    "model.load_state_dict(ckpt['state_dict']); model.eval()\n",
    "\n",
    "with torch.no_grad():\n",
    "    base_pred = model(torch.from_numpy(X_test)).numpy()\n",
    "base_mse = ((base_pred - y_test)**2).mean()\n",
    "print('Baseline MSE:', base_mse)\n",
    "\n",
    "# Weight-based importance\n",
    "W1 = model.net[0].weight.detach().numpy()\n",
    "W2 = model.net[3].weight.detach().numpy()\n",
    "imp = np.sum(np.abs(W1), axis=0) * np.mean(np.abs(W2), axis=0)\n",
    "wa = pd.Series(imp, index=feature_cols).sort_values(ascending=False)\n",
    "wa.head(10)"
   ]
  },
  {
   "cell_type": "markdown",
   "metadata": {},
   "source": [
    "### Permutation Importance"
   ]
  },
  {
   "cell_type": "code",
   "execution_count": null,
   "metadata": {},
   "outputs": [],
   "source": [
    "rng = np.random.default_rng(0)\n",
    "def perm_importance(X, y, model, n_repeats=3):\n",
    "    base = ((model(torch.from_numpy(X)).detach().numpy() - y)**2).mean()\n",
    "    scores = {}\n",
    "    for j in range(X.shape[1]):\n",
    "        deltas = []\n",
    "        for _ in range(n_repeats):\n",
    "            Xp = X.copy()\n",
    "            rng.shuffle(Xp[:, j])\n",
    "            pr = model(torch.from_numpy(Xp)).detach().numpy()\n",
    "            deltas.append(((pr - y)**2).mean() - base)\n",
    "        scores[j] = float(np.mean(deltas))\n",
    "    return scores\n",
    "\n",
    "pi = pd.Series(perm_importance(X_test, y_test, model))\n",
    "pi = pi.rename(index=lambda j: feature_cols[j]).sort_values(ascending=False)\n",
    "pi.head(10)"
   ]
  },
  {
   "cell_type": "markdown",
   "metadata": {},
   "source": [
    "### Feature Fixing"
   ]
  },
  {
   "cell_type": "code",
   "execution_count": null,
   "metadata": {},
   "outputs": [],
   "source": [
    "def fix_importance(X, y, model):\n",
    "    base = ((model(torch.from_numpy(X)).detach().numpy() - y)**2).mean()\n",
    "    scores = {}\n",
    "    means = X.mean(axis=0, keepdims=True)\n",
    "    for j in range(X.shape[1]):\n",
    "        Xf = X.copy()\n",
    "        Xf[:, j] = means[:, j]\n",
    "        pr = model(torch.from_numpy(Xf)).detach().numpy()\n",
    "        scores[j] = float(((pr - y)**2).mean() - base)\n",
    "    return scores\n",
    "\n",
    "fi = pd.Series(fix_importance(X_test, y_test, model))\n",
    "fi = fi.rename(index=lambda j: feature_cols[j]).sort_values(ascending=False)\n",
    "fi.head(10)"
   ]
  }
 ],
 "metadata": {
  "kernelspec": {
   "display_name": "Python 3",
   "language": "python",
   "name": "python3"
  },
  "language_info": {
   "name": "python"
  }
 },
 "nbformat": 4,
 "nbformat_minor": 5
}
