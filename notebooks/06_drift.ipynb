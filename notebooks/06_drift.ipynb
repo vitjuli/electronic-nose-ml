{
 "cells": [
  {
   "cell_type": "markdown",
   "metadata": {},
   "source": [
    "# 06 · Drift detection — PSI / KS"
   ]
  },
  {
   "cell_type": "code",
   "execution_count": null,
   "metadata": {},
   "outputs": [],
   "source": [
    "import pandas as pd\n",
    "from src.drift import psi, ks_stat\n",
    "\n",
    "df = pd.read_csv('../data/processed/dataset.csv')\n",
    "train, test = df[df['split']=='train'], df[df['split']=='test']\n",
    "x_cols = [c for c in df.columns if c.startswith('x')]\n",
    "\n",
    "rows = []\n",
    "for c in x_cols[:50]:\n",
    "    rows.append({'feature': c,\n",
    "                 'PSI': psi(train[c].values, test[c].values),\n",
    "                 'KS': ks_stat(train[c].values, test[c].values)})\n",
    "\n",
    "res = pd.DataFrame(rows).sort_values('PSI', ascending=False)\n",
    "res.head(15)"
   ]
  }
 ],
 "metadata": {
  "kernelspec": {
   "display_name": "Python 3",
   "language": "python",
   "name": "python3"
  },
  "language_info": {
   "name": "python"
  }
 },
 "nbformat": 4,
 "nbformat_minor": 5
}
