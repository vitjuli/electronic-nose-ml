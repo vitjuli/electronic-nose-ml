{
 "cells": [
  {
   "cell_type": "markdown",
   "metadata": {},
   "source": [
    "# 01 · Preprocessing\n",
    "\n",
    "Этот ноутбук показывает формат данных и проверку сплитов/групп."
   ]
  },
  {
   "cell_type": "code",
   "execution_count": null,
   "metadata": {},
   "outputs": [],
   "source": [
    "import pandas as pd, numpy as np\n",
    "df = pd.read_csv('../data/processed/dataset.csv')\n",
    "print(df.shape, list(df.columns)[:10], '...', list(df.columns)[-5:])\n",
    "print('Splits:', df['split'].value_counts())\n",
    "print('Groups:', df['group'].value_counts())\n",
    "assert set(df['split']).issubset({'train','val','test'})"
   ]
  },
  {
   "cell_type": "markdown",
   "metadata": {},
   "source": [
    "Визуализация одного цикла:"
   ]
  },
  {
   "cell_type": "code",
   "execution_count": null,
   "metadata": {},
   "outputs": [],
   "source": [
    "import matplotlib.pyplot as plt\n",
    "row = df.sample(1, random_state=0).iloc[0]\n",
    "xcols = [c for c in df.columns if c.startswith('x')]\n",
    "x = row[xcols].values.astype('float32')\n",
    "plt.figure()\n",
    "plt.plot(x)\n",
    "plt.title(f\"Example cycle — split={row['split']} H2={row['H2_ppm']} Prop={row['Propane_ppm']}\")\n",
    "plt.xlabel('t'); plt.ylabel('signal')\n",
    "plt.tight_layout()"
   ]
  }
 ],
 "metadata": {
  "kernelspec": {
   "display_name": "Python 3",
   "language": "python",
   "name": "python3"
  },
  "language_info": {
   "name": "python"
  }
 },
 "nbformat": 4,
 "nbformat_minor": 5
}
