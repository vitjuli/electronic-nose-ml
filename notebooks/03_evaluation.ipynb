{
 "cells": [
  {
   "cell_type": "markdown",
   "metadata": {},
   "source": [
    "# 03 · Evaluation — metrics + plots"
   ]
  },
  {
   "cell_type": "code",
   "execution_count": null,
   "metadata": {},
   "outputs": [],
   "source": [
    "import sys, subprocess, os\n",
    "DATA = '../data/processed/dataset.csv'\n",
    "CKPT = '../models'\n",
    "SCALER = '../models/scaler.joblib'\n",
    "cmd = [sys.executable, '-m', 'src.evaluate', '--data', DATA, '--ckpt', CKPT, '--scaler', SCALER,\n",
    "       '--targets', 'H2_ppm', 'Propane_ppm']\n",
    "print('Running:', ' '.join(cmd))\n",
    "subprocess.run(cmd, check=True)\n",
    "print('Saved figures in models/:', [f for f in os.listdir('../models') if f.endswith('.png')])"
   ]
  }
 ],
 "metadata": {
  "kernelspec": {
   "display_name": "Python 3",
   "language": "python",
   "name": "python3"
  },
  "language_info": {
   "name": "python"
  }
 },
 "nbformat": 4,
 "nbformat_minor": 5
}
